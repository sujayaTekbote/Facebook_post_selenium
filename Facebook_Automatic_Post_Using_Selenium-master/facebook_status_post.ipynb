{
 "cells": [
  {
   "cell_type": "code",
   "execution_count": 6,
   "metadata": {},
   "outputs": [
    {
     "ename": "SyntaxError",
     "evalue": "(unicode error) 'unicodeescape' codec can't decode bytes in position 2-3: truncated \\UXXXXXXXX escape (<ipython-input-6-6c6d588887df>, line 9)",
     "output_type": "error",
     "traceback": [
      "\u001b[1;36m  File \u001b[1;32m\"<ipython-input-6-6c6d588887df>\"\u001b[1;36m, line \u001b[1;32m9\u001b[0m\n\u001b[1;33m    driver = webdriver.Chrome('C:\\Users\\suraj\\chromedriver')\u001b[0m\n\u001b[1;37m                             ^\u001b[0m\n\u001b[1;31mSyntaxError\u001b[0m\u001b[1;31m:\u001b[0m (unicode error) 'unicodeescape' codec can't decode bytes in position 2-3: truncated \\UXXXXXXXX escape\n"
     ]
    }
   ],
   "source": [
    "#posting status in facebook with selenium\n",
    "\n",
    "from selenium import webdriver\n",
    "from selenium.webdriver.common.by import By\n",
    "from time import sleep\n",
    "from selenium.webdriver.support.ui import WebDriverWait\n",
    "import time\n",
    "\n",
    "driver = webdriver.Chrome('C:\\Users\\suraj\\chromedriver')\n",
    "driver.get('http://facebook.com')\n",
    "emailelement = driver.find_element(By.XPATH,'.//*//*[@id=\"email\"]')\n",
    "emailelement.send_keys('7026919987')\n",
    "\n",
    "passelement = driver.find_element(By.XPATH,'.//*//*[@id=\"pass\"]')\n",
    "passelement.send_keys('meandmyself')\n",
    "\n",
    "elem = driver.find_element(By.XPATH,'.//*[@id=\"loginbutton\"]')\n",
    "elem.click()\n",
    "\n",
    "statuselement = driver.find_element(By.XPATH, \"//*[@name='xhpc_message']\")\n",
    "time.sleep(15)\n",
    "\n",
    "statuselement.send_keys('Hey there')\n",
    "time.sleep(15)\n",
    "buttons = driver.find_elements_by_tag_name('button')\n",
    "time.sleep(15)\n",
    "for button in buttons:\n",
    "    if button.text == 'Share':\n",
    "        button.click()"
   ]
  },
  {
   "cell_type": "code",
   "execution_count": null,
   "metadata": {},
   "outputs": [],
   "source": []
  }
 ],
 "metadata": {
  "kernelspec": {
   "display_name": "Python 3",
   "language": "python",
   "name": "python3"
  },
  "language_info": {
   "codemirror_mode": {
    "name": "ipython",
    "version": 3
   },
   "file_extension": ".py",
   "mimetype": "text/x-python",
   "name": "python",
   "nbconvert_exporter": "python",
   "pygments_lexer": "ipython3",
   "version": "3.6.7"
  }
 },
 "nbformat": 4,
 "nbformat_minor": 2
}
